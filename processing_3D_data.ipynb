{
 "cells": [
  {
   "cell_type": "code",
   "execution_count": 2,
   "metadata": {},
   "outputs": [
    {
     "name": "stdout",
     "output_type": "stream",
     "text": [
      "Using matplotlib backend: <object object at 0x00000292E1E8CF60>\n"
     ]
    }
   ],
   "source": [
    "%matplotlib\n",
    "import numpy as np\n",
    "import matplotlib.pyplot as plt\n",
    "import pickle\n",
    "import ge\n",
    "import matplotlib.cm\n",
    "from sklearn.neighbors import  KDTree"
   ]
  },
  {
   "cell_type": "code",
   "execution_count": 36,
   "metadata": {},
   "outputs": [],
   "source": [
    "\"\"\"\n",
    "The two point clouds should be in the same coordinate system to be able to \n",
    "estimate the translations and rotations. It returns the translation and rotation\n",
    "of the model point cloud.\n",
    "\n",
    "The inputs are assumed to be shape Nx3.\n",
    "\"\"\"\n",
    "def ICP(\n",
    "        source:np.array,\n",
    "        model:np.array,\n",
    "        min_err_change:float=0.5,\n",
    "        max_iterations:int=20,\n",
    "        sample_percentage:float=1.0\n",
    "        )->np.array:\n",
    "    prev_error=20000\n",
    "    err_change=1000\n",
    "    iter=0\n",
    "    while(err_change>min_err_change):\n",
    "        #sample random points from each of the pointsclouds, and create KDTree from the new samples\n",
    "        sourceSamples=samplePoints(source,sample_percentage)\n",
    "        treeModel=KDTree(model)\n",
    "        #Get the indices of the nearest neighbours in the tree\n",
    "        indices=treeModel.query(sourceSamples,k=1,return_distance=False)\n",
    "        modelSamples=np.take(model,indices)\n",
    "        modelSamples=np.reshape(modelSamples,(modelSamples.shape[0],modelSamples.shape[-1]))\n",
    "        #Translate clouds by the means\n",
    "        centroidM=np.mean(modelSamples,axis=0)\n",
    "        centroidSource=np.mean(sourceSamples,axis=0)\n",
    "        modelAligned=modelSamples-centroidM\n",
    "        sourceAligned=sourceSamples-centroidSource\n",
    "        #Use svd to get rotation and translation\n",
    "        covarianceMatrix=modelAligned.T@sourceAligned\n",
    "        print(covarianceMatrix.shape)\n",
    "        U,S,Vt=np.linalg.svd(covarianceMatrix)\n",
    "        rotation=U@Vt\n",
    "        translation=centroidSource-rotation@centroidM\n",
    "        source=rotation@source+translation\n",
    "\n",
    "        #Calculate error, and the change in the error\n",
    "        err=error(source,model)\n",
    "        err_change=abs(err-prev_error)\n",
    "        prev_error=err\n",
    "        iter+=1\n",
    "        if iter>max_iterations:\n",
    "                break\n",
    "    return rotation,translation\n",
    "\n",
    "def samplePoints(array:np.array,sample_percentage):\n",
    "    sampleIndices=np.random.choice(array.shape[0],int(sample_percentage*array.shape[0]),replace=False)\n",
    "    samples=np.take(array,sampleIndices,axis=0)\n",
    "    return samples\n",
    "\n",
    "def error(source:np.array,model:np.array)->float:\n",
    "    diffArray=source-model\n",
    "    distanceArray=np.linalg.norm(diffArray,axis=1)\n",
    "    mean=np.mean(distanceArray)\n",
    "    return mean     "
   ]
  },
  {
   "cell_type": "code",
   "execution_count": 37,
   "metadata": {},
   "outputs": [],
   "source": [
    "def toWorld(points,rotation,translation)->np.array:\n",
    "    return rotation.T@(points-translation)\n",
    "\n",
    "def processPCKLPointCloud(filePath, ICPTolerance=20):\n",
    "    # load .pckl data from the RealSense sensor\n",
    "    with open( filePath, \"rb\") as fh:\n",
    "        data = pickle.load( fh )\n",
    "\n",
    "    # a single view is stored in data[i]\n",
    "    Nview = len( data ) # number of views\n",
    "\n",
    "    # colormap for storing each view with different color\n",
    "    cmap = matplotlib.cm.get_cmap( 'jet')\n",
    "\n",
    "    # open PLY output object\n",
    "    g = ge.GePly( filePath[:-5] + '.ply' ) # change extension .pckl to .ply\n",
    "\n",
    "    referenceCloud=data[0][\"points\"].T\n",
    "    rot=data[0][\"extrinsics\"][:3,:3]\n",
    "    translation=data[0][\"extrinsics\"][:3,[3]]\n",
    "\n",
    "    referenceCloud=toWorld(referenceCloud,rot,translation)\n",
    "    C = cmap( 0 / ( Nview - 1 ) )[:3] # skip alpha\n",
    "    g.points( referenceCloud.T, color=C )\n",
    "\n",
    "    # iterate views\n",
    "    for i in range(1,Nview):\n",
    "        # 3D points from a single view - 3 x n numpy array\n",
    "        X = data[i][\"points\"].T\n",
    "        # rotation matrix, 3x3 numpy array\n",
    "        R = data[i]['extrinsics'][:3, :3]\n",
    "        # translation vector, 3x1 numpy array\n",
    "        t = data[i]['extrinsics'][:3, [3]]\n",
    "\n",
    "        # transform points to world coordinate system\n",
    "        worldPoints=toWorld(X,R,t)\n",
    "        # run ICP algorithm\n",
    "        print(g.vertices[0].shape)\n",
    "        rotatedPoints=ICP(g.vertices[0],worldPoints,ICPTolerance)\n",
    "\n",
    "        # color for this view\n",
    "        C = cmap( i / ( Nview - 1 ) )[:3] # skip alpha\n",
    "        \n",
    "        # ply output\n",
    "        g.points( rotatedPoints, color=C )\n",
    "    g.close()"
   ]
  },
  {
   "cell_type": "code",
   "execution_count": 38,
   "metadata": {},
   "outputs": [
    {
     "name": "stderr",
     "output_type": "stream",
     "text": [
      "C:\\Users\\hgand\\AppData\\Local\\Temp\\ipykernel_10744\\2063607977.py:8: MatplotlibDeprecationWarning: The get_cmap function was deprecated in Matplotlib 3.7 and will be removed two minor releases later. Use ``matplotlib.colormaps[name]`` or ``matplotlib.colormaps.get_cmap(obj)`` instead.\n",
      "  cmap = matplotlib.cm.get_cmap( 'jet')\n"
     ]
    },
    {
     "name": "stdout",
     "output_type": "stream",
     "text": [
      "(1, 3)\n"
     ]
    },
    {
     "ename": "ValueError",
     "evalue": "matmul: Input operand 1 has a mismatch in its core dimension 0, with gufunc signature (n?,k),(k,m?)->(n?,m?) (size 3 is different from 1)",
     "output_type": "error",
     "traceback": [
      "\u001b[1;31m---------------------------------------------------------------------------\u001b[0m",
      "\u001b[1;31mValueError\u001b[0m                                Traceback (most recent call last)",
      "Cell \u001b[1;32mIn[38], line 13\u001b[0m\n\u001b[0;32m     11\u001b[0m data0\u001b[38;5;241m=\u001b[39mdata[\u001b[38;5;241m0\u001b[39m][\u001b[38;5;124m\"\u001b[39m\u001b[38;5;124mpoints\u001b[39m\u001b[38;5;124m\"\u001b[39m]\n\u001b[0;32m     12\u001b[0m data1\u001b[38;5;241m=\u001b[39mdata[\u001b[38;5;241m1\u001b[39m][\u001b[38;5;124m\"\u001b[39m\u001b[38;5;124mpoints\u001b[39m\u001b[38;5;124m\"\u001b[39m]\n\u001b[1;32m---> 13\u001b[0m rotation,translation\u001b[38;5;241m=\u001b[39m\u001b[43mICP\u001b[49m\u001b[43m(\u001b[49m\u001b[43mdata0\u001b[49m\u001b[43m,\u001b[49m\u001b[43mdata1\u001b[49m\u001b[43m)\u001b[49m\n",
      "Cell \u001b[1;32mIn[36], line 35\u001b[0m, in \u001b[0;36mICP\u001b[1;34m(source, model, min_err_change, max_iterations, sample_percentage)\u001b[0m\n\u001b[0;32m     33\u001b[0m \u001b[38;5;28mprint\u001b[39m(covarianceMatrix\u001b[38;5;241m.\u001b[39mshape)\n\u001b[0;32m     34\u001b[0m U,S,Vt\u001b[38;5;241m=\u001b[39mnp\u001b[38;5;241m.\u001b[39mlinalg\u001b[38;5;241m.\u001b[39msvd(covarianceMatrix)\n\u001b[1;32m---> 35\u001b[0m rotation\u001b[38;5;241m=\u001b[39m\u001b[43mU\u001b[49m\u001b[38;5;129;43m@Vt\u001b[39;49m\n\u001b[0;32m     36\u001b[0m translation\u001b[38;5;241m=\u001b[39mcentroidSource\u001b[38;5;241m-\u001b[39mrotation\u001b[38;5;129m@centroidM\u001b[39m\n\u001b[0;32m     37\u001b[0m source\u001b[38;5;241m=\u001b[39mrotation\u001b[38;5;129m@source\u001b[39m\u001b[38;5;241m+\u001b[39mtranslation\n",
      "\u001b[1;31mValueError\u001b[0m: matmul: Input operand 1 has a mismatch in its core dimension 0, with gufunc signature (n?,k),(k,m?)->(n?,m?) (size 3 is different from 1)"
     ]
    }
   ],
   "source": [
    "filePath=\"Data/processing3DData/2019-12-09_11-06-02_data.pckl\"\n",
    "# load .pckl data from the RealSense sensor\n",
    "with open( filePath, \"rb\") as fh:\n",
    "    data = pickle.load( fh )\n",
    "\n",
    "# a single view is stored in data[i]\n",
    "Nview = len( data ) # number of views\n",
    "cmap = matplotlib.cm.get_cmap( 'jet')\n",
    "g = ge.GePly( filePath[:-5] + '.ply' ) # change extension .pckl to .ply\n",
    "\n",
    "data0=data[0][\"points\"]\n",
    "data1=data[1][\"points\"]\n",
    "rotation,translation=ICP(data0,data1)\n"
   ]
  },
  {
   "cell_type": "code",
   "execution_count": 6,
   "metadata": {},
   "outputs": [
    {
     "name": "stdout",
     "output_type": "stream",
     "text": [
      "(31127, 3)\n",
      "(42229, 3)\n"
     ]
    }
   ],
   "source": [
    "print(data[0][\"points\"].shape)\n",
    "print(data[1][\"points\"].shape)"
   ]
  },
  {
   "cell_type": "code",
   "execution_count": 9,
   "metadata": {},
   "outputs": [
    {
     "data": {
      "text/plain": [
       "(3, 3)"
      ]
     },
     "execution_count": 9,
     "metadata": {},
     "output_type": "execute_result"
    }
   ],
   "source": [
    "U,S,Vt=np.linalg.svd(np.array([[1,1,1],[2,2,2],[3,3,3]]))\n",
    "Vt.shape"
   ]
  },
  {
   "cell_type": "code",
   "execution_count": null,
   "metadata": {},
   "outputs": [],
   "source": []
  }
 ],
 "metadata": {
  "kernelspec": {
   "display_name": "3D-computer-vision-",
   "language": "python",
   "name": "python3"
  },
  "language_info": {
   "codemirror_mode": {
    "name": "ipython",
    "version": 3
   },
   "file_extension": ".py",
   "mimetype": "text/x-python",
   "name": "python",
   "nbconvert_exporter": "python",
   "pygments_lexer": "ipython3",
   "version": "3.9.13"
  }
 },
 "nbformat": 4,
 "nbformat_minor": 2
}
