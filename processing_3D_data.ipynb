{
 "cells": [
  {
   "cell_type": "markdown",
   "metadata": {},
   "source": [
    "# Point cloud alignment\n",
    "\n",
    "This notebook contains the implementation of the Iterative Closest Points(ICP) algorithm, which is used to estimate point cloud alignment. The data was captured with an Intel RealSense camera.  \n",
    "  \n",
    "The rotations and translation first are converted to world coordinate system, then the ICP is applied for refining rotations and translations."
   ]
  },
  {
   "cell_type": "code",
   "execution_count": 12,
   "metadata": {},
   "outputs": [
    {
     "name": "stdout",
     "output_type": "stream",
     "text": [
      "Using matplotlib backend: TkAgg\n"
     ]
    }
   ],
   "source": [
    "%matplotlib\n",
    "import numpy as np\n",
    "import matplotlib.pyplot as plt\n",
    "import pickle\n",
    "import ge\n",
    "import matplotlib.cm\n",
    "from sklearn.neighbors import  KDTree\n",
    "import open3d"
   ]
  },
  {
   "cell_type": "code",
   "execution_count": 13,
   "metadata": {},
   "outputs": [],
   "source": [
    "\"\"\"\n",
    "The two point clouds should be in the same coordinate system to be able to \n",
    "estimate the translations and rotations. It returns the translation and rotation\n",
    "of the model point cloud.\n",
    "\n",
    "The inputs are assumed to be shape Nx3.\n",
    "\"\"\"\n",
    "def ICP(\n",
    "        source:np.array,\n",
    "        model:np.array,\n",
    "        max_err:float=0.5,\n",
    "        max_iterations:int=20,\n",
    "        sample_percentage:float=1.0\n",
    "        )->np.array:\n",
    "    err=1000\n",
    "    iter=0\n",
    "    while(err>max_err):\n",
    "        #sample random points from the source pointscloud, and create KDTree from the model cloud\n",
    "        sourceSamples=samplePoints(source,sample_percentage)\n",
    "        treeModel=KDTree(model)\n",
    "        #Get the nearest neighbour for each point in the source pointcloud from the model pointcloud\n",
    "        indices=treeModel.query(sourceSamples,k=1,return_distance=False)\n",
    "        modelSamples=np.take(model,indices,axis=0)\n",
    "        modelSamples=np.reshape(modelSamples,(modelSamples.shape[0],modelSamples.shape[-1]))\n",
    "        #Translate clouds by the means\n",
    "        centroidM=np.mean(modelSamples,axis=0)\n",
    "        centroidSource=np.mean(sourceSamples,axis=0)\n",
    "        modelAligned=modelSamples-centroidM\n",
    "        sourceAligned=sourceSamples-centroidSource\n",
    "        #Use svd to get rotation and translation\n",
    "        covarianceMatrix=modelAligned.T@sourceAligned\n",
    "        #print(covarianceMatrix.shape)\n",
    "        U,S,Vt=np.linalg.svd(covarianceMatrix)\n",
    "        rotation=U@Vt\n",
    "        translation=centroidM-rotation@centroidSource\n",
    "\n",
    "        #Calculate error, and the change in the error\n",
    "        err=error((rotation@sourceAligned.T).T,modelAligned)\n",
    "        if iter%5==0:\n",
    "            print(\"Iteration \",iter,\" with error \", err)\n",
    "        iter+=1\n",
    "        if iter>max_iterations:\n",
    "            break\n",
    "        #Transform the source point cloud\n",
    "        source=(rotation@source.T).T+translation\n",
    "    return rotation,translation\n",
    "\n",
    "def samplePoints(array:np.array,sample_percentage):\n",
    "    sampleIndices=np.random.choice(array.shape[0],int(sample_percentage*array.shape[0]),replace=False)\n",
    "    samples=np.take(array,sampleIndices,axis=0)\n",
    "    return samples\n",
    "\n",
    "def error(source:np.array,model:np.array)->float:\n",
    "    diffArray=source-model\n",
    "    distanceArray=np.linalg.norm(diffArray,axis=1)\n",
    "    mean=np.mean(distanceArray)\n",
    "    return mean     "
   ]
  },
  {
   "cell_type": "code",
   "execution_count": 14,
   "metadata": {},
   "outputs": [],
   "source": [
    "def toWorld(points,rotation,translation)->np.array:\n",
    "    return (rotation.T@(points-translation).T).T\n",
    "\n",
    "def toLocal(points, rotation,translation)->np.array:\n",
    "    return (rotation@points.T).T+translation.T\n",
    "\n",
    "def processPCKLPointCloud(filePath, maxError=0.001,maxIterations=20):\n",
    "    # load .pckl data from the RealSense sensor\n",
    "    with open( filePath, \"rb\") as fh:\n",
    "        data = pickle.load( fh )\n",
    "    # a single view is stored in data[i]\n",
    "    Nview = len( data ) # number of views\n",
    "\n",
    "    # colormap for storing each view with different color\n",
    "    cmap = matplotlib.cm.get_cmap( 'jet')\n",
    "\n",
    "    # open PLY output object\n",
    "    g = ge.GePly( filePath[:-5] + '.ply' ) # change extension .pckl to .ply\n",
    "\n",
    "    referenceCloud=data[0][\"points\"]\n",
    "    rot=data[0][\"extrinsics\"][:3,:3]\n",
    "    translation=data[0][\"extrinsics\"][:3,[3]]\n",
    "    referenceCloud=toWorld(referenceCloud,rot,translation.T)\n",
    "    C = cmap( 0 / ( Nview - 1 ) )[:3] # skip alpha\n",
    "    g.points( referenceCloud.T, color=C )\n",
    "\n",
    "    # iterate views\n",
    "    for i in range(1,Nview):\n",
    "        # 3D points from a single view - 3 x n numpy array\n",
    "        print(i)\n",
    "        X = data[i][\"points\"]\n",
    "        # rotation matrix, 3x3 numpy array\n",
    "        R = data[i]['extrinsics'][:3, :3]\n",
    "        # translation vector, 3x1 numpy array\n",
    "        t = data[i]['extrinsics'][:3, [3]]\n",
    "\n",
    "        # transform points to world coordinate system\n",
    "        worldPoints=toWorld(X,R,t.T)\n",
    "        # run ICP algorithm\n",
    "        rotation,translation=ICP(worldPoints,referenceCloud,maxError,maxIterations)\n",
    "        rotatedPoints=(rotation@worldPoints.T).T+translation.T\n",
    "        # color for this view\n",
    "        C = cmap( i / ( Nview - 1 ) )[:3] # skip alpha\n",
    "        \n",
    "        # ply output\n",
    "        g.points( rotatedPoints.T, color=C )\n",
    "    g.close()"
   ]
  },
  {
   "cell_type": "code",
   "execution_count": 15,
   "metadata": {},
   "outputs": [
    {
     "name": "stdout",
     "output_type": "stream",
     "text": [
      "1\n"
     ]
    },
    {
     "name": "stderr",
     "output_type": "stream",
     "text": [
      "C:\\Users\\hgand\\AppData\\Local\\Temp\\ipykernel_27348\\61542521.py:15: MatplotlibDeprecationWarning: The get_cmap function was deprecated in Matplotlib 3.7 and will be removed two minor releases later. Use ``matplotlib.colormaps[name]`` or ``matplotlib.colormaps.get_cmap(obj)`` instead.\n",
      "  cmap = matplotlib.cm.get_cmap( 'jet')\n"
     ]
    },
    {
     "name": "stdout",
     "output_type": "stream",
     "text": [
      "Iteration  0  with error  0.01545718450199236\n",
      "Iteration  5  with error  0.013420989190177424\n",
      "Iteration  10  with error  0.012630676288754155\n",
      "Iteration  15  with error  0.012395385356254436\n",
      "Iteration  20  with error  0.012383170143083487\n",
      "2\n",
      "Iteration  0  with error  0.01694899042444533\n",
      "Iteration  5  with error  0.014832859600617596\n",
      "Iteration  10  with error  0.0141047773735963\n",
      "Iteration  15  with error  0.0138889612222297\n",
      "Iteration  20  with error  0.013829223523259956\n",
      "3\n",
      "Iteration  0  with error  0.02781500566348922\n",
      "Iteration  5  with error  0.022311504732378425\n",
      "Iteration  10  with error  0.021591235210923265\n",
      "Iteration  15  with error  0.02103972990847426\n",
      "Iteration  20  with error  0.020445870404461938\n"
     ]
    }
   ],
   "source": [
    "filePath=\"Data/processing3DData/2019-12-09_11-06-02_data.pckl\"\n",
    "# load .pckl data from the RealSense sensor\n",
    "processPCKLPointCloud(filePath)"
   ]
  },
  {
   "cell_type": "code",
   "execution_count": 16,
   "metadata": {},
   "outputs": [],
   "source": [
    "cloud=open3d.io.read_point_cloud(\"Data/processing3DData/2019-12-09_11-06-02_data.ply\")\n",
    "open3d.visualization.draw_geometries([cloud])"
   ]
  },
  {
   "cell_type": "markdown",
   "metadata": {},
   "source": [
    "![image info](Data/AlignedPointClouds.PNG \"Aligned pointcloud\")"
   ]
  },
  {
   "cell_type": "code",
   "execution_count": 17,
   "metadata": {},
   "outputs": [],
   "source": [
    "cloud=open3d.io.read_point_cloud(\"Data/processing3DData/2019-12-09_11-06-02_data-raw.ply\")\n",
    "open3d.visualization.draw_geometries([cloud])"
   ]
  },
  {
   "cell_type": "markdown",
   "metadata": {},
   "source": [
    "![image info](Data/UnalignedPointClouds.PNG \"Unaligned pointcloud\")"
   ]
  },
  {
   "cell_type": "code",
   "execution_count": null,
   "metadata": {},
   "outputs": [],
   "source": []
  }
 ],
 "metadata": {
  "kernelspec": {
   "display_name": "3D-computer-vision-",
   "language": "python",
   "name": "python3"
  },
  "language_info": {
   "codemirror_mode": {
    "name": "ipython",
    "version": 3
   },
   "file_extension": ".py",
   "mimetype": "text/x-python",
   "name": "python",
   "nbconvert_exporter": "python",
   "pygments_lexer": "ipython3",
   "version": "3.8.10"
  }
 },
 "nbformat": 4,
 "nbformat_minor": 2
}
