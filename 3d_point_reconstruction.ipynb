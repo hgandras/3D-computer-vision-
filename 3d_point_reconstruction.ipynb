{
 "cells": [
  {
   "cell_type": "code",
   "execution_count": 17,
   "metadata": {},
   "outputs": [
    {
     "name": "stdout",
     "output_type": "stream",
     "text": [
      "Using matplotlib backend: TkAgg\n"
     ]
    }
   ],
   "source": [
    "%matplotlib\n",
    "\n",
    "import numpy as np\n",
    "import matplotlib.pyplot as plt\n",
    "from mpl_toolkits import mplot3d"
   ]
  },
  {
   "cell_type": "markdown",
   "metadata": {},
   "source": [
    "### Data"
   ]
  },
  {
   "cell_type": "code",
   "execution_count": 18,
   "metadata": {},
   "outputs": [
    {
     "data": {
      "text/plain": [
       "(1788, 2)"
      ]
     },
     "execution_count": 18,
     "metadata": {},
     "output_type": "execute_result"
    }
   ],
   "source": [
    "pumpkin_left=plt.imread(\"./Data/pumpkin_left.jpg\")\n",
    "pumpkin_right=plt.imread(\"./Data/pumpkin_right.jpg\")\n",
    "\n",
    "PLeft=np.array([\n",
    "    [1325.00000000, 0.00000000, 805.00000000, 0.00000000],\n",
    "    [0.00000000, 1325.00000000, 468.00000000, 0.00000000],\n",
    "    [0.00000000, 0.00000000, 1.00000000, 0.00000000]\n",
    "])\n",
    "\n",
    "PRight=np.array([\n",
    "    [1126.67010454, -249.71530121, 1035.32929249, -1347.97882937],\n",
    "    [150.95878897, 1299.48285727, 513.03484063, -381.74973338],\n",
    "    [-0.18907694, -0.00556371, 0.98194651, -0.09044673]\n",
    "])\n",
    "\n",
    "verifiedLeft=np.loadtxt(\"./Data/PointsLeft\")\n",
    "verifiedRight=np.loadtxt(\"./Data/PointsRight\")\n",
    "\n",
    "verifiedLeft.shape"
   ]
  },
  {
   "cell_type": "markdown",
   "metadata": {},
   "source": [
    "### Plotting measured points on the images"
   ]
  },
  {
   "cell_type": "code",
   "execution_count": 19,
   "metadata": {},
   "outputs": [
    {
     "data": {
      "text/plain": [
       "[<matplotlib.lines.Line2D at 0x2899d444580>]"
      ]
     },
     "execution_count": 19,
     "metadata": {},
     "output_type": "execute_result"
    }
   ],
   "source": [
    "\n",
    "fig,axs=plt.subplots(1,2,figsize=(10,4))\n",
    "axs[0].imshow(pumpkin_left)\n",
    "axs[0].plot(verifiedLeft[:,0],verifiedLeft[:,1],'o',markersize=2)\n",
    "\n",
    "axs[1].imshow(pumpkin_right)\n",
    "axs[1].plot(verifiedRight[:,0],verifiedRight[:,1],'o',markersize=2)\n"
   ]
  },
  {
   "cell_type": "markdown",
   "metadata": {},
   "source": [
    "### Creating the linear system to solve"
   ]
  },
  {
   "cell_type": "code",
   "execution_count": 20,
   "metadata": {},
   "outputs": [],
   "source": [
    "\n",
    "\"\"\"\n",
    "From the camera matrices creates a class that can reconstruct the \n",
    "3D points.\n",
    "\"\"\"\n",
    "class Reconstruct3D:\n",
    "    def __init__(self,PLeft:np.array,PRight:np.array):\n",
    "        self.p1L=PLeft[0]\n",
    "        self.p2L=PLeft[1]\n",
    "        self.p3L=PLeft[2]\n",
    "\n",
    "        self.p1R=PRight[0]\n",
    "        self.p2R=PRight[1]\n",
    "        self.p3R=PRight[2]\n",
    "  \n",
    "\n",
    "    \"\"\"\n",
    "    Reconstructs the 3D points given the measured 2D points on the image on the left \n",
    "    and the right camera.\n",
    "    \"\"\"\n",
    "    def get3DPoints(self,imgPointsLeft:np.array,imgPointsRight:np.array)->np.array:\n",
    "        points3D=np.zeros((imgPointsLeft.shape[0],3))\n",
    "        for c,(pointLeft,pointRight) in enumerate(zip(imgPointsLeft,imgPointsRight)):\n",
    "            coeff_matrix=np.array([\n",
    "                pointLeft[0]*self.p3L-self.p1L,\n",
    "                pointLeft[1]*self.p3L-self.p2L,\n",
    "                pointRight[0]*self.p3R-self.p1R,\n",
    "                pointRight[1]*self.p3R-self.p2R\n",
    "            ])\n",
    "            U,S,V=np.linalg.svd(coeff_matrix)\n",
    "            points3D[c]+=V.T[:,-1][:3]/V.T[:,-1][-1]\n",
    "        return points3D"
   ]
  },
  {
   "cell_type": "code",
   "execution_count": 21,
   "metadata": {},
   "outputs": [],
   "source": [
    "reconstructor=Reconstruct3D(PLeft,PRight)\n",
    "reconstructedHomogeneousPoints=reconstructor.get3DPoints(verifiedLeft,verifiedRight)\n"
   ]
  },
  {
   "cell_type": "code",
   "execution_count": 22,
   "metadata": {},
   "outputs": [
    {
     "data": {
      "text/plain": [
       "array([[ 0.52615713, -3.01928341,  8.97997195],\n",
       "       [-2.47300537, -2.08404378,  7.49554552],\n",
       "       [ 2.42366214, -1.91946843,  7.53639857],\n",
       "       ...,\n",
       "       [ 0.68464783, -0.85736579,  4.42060996],\n",
       "       [-0.1003734 , -0.01792094,  3.77650612],\n",
       "       [ 0.16106753, -0.14477462,  3.62918702]])"
      ]
     },
     "execution_count": 22,
     "metadata": {},
     "output_type": "execute_result"
    }
   ],
   "source": [
    "reconstructedHomogeneousPoints"
   ]
  },
  {
   "cell_type": "code",
   "execution_count": 23,
   "metadata": {},
   "outputs": [],
   "source": [
    "fig=plt.figure()\n",
    "axs=plt.axes(projection=\"3d\")\n",
    "x=reconstructedHomogeneousPoints[:,0]\n",
    "y=reconstructedHomogeneousPoints[:,1]\n",
    "z=reconstructedHomogeneousPoints[:,2]\n",
    "axs.plot3D(x,y,z,'o',markersize=1)\n",
    "plt.show()"
   ]
  },
  {
   "cell_type": "code",
   "execution_count": null,
   "metadata": {},
   "outputs": [],
   "source": []
  }
 ],
 "metadata": {
  "kernelspec": {
   "display_name": "3D-computer-vision-",
   "language": "python",
   "name": "python3"
  },
  "language_info": {
   "codemirror_mode": {
    "name": "ipython",
    "version": 3
   },
   "file_extension": ".py",
   "mimetype": "text/x-python",
   "name": "python",
   "nbconvert_exporter": "python",
   "pygments_lexer": "ipython3",
   "version": "3.8.10"
  }
 },
 "nbformat": 4,
 "nbformat_minor": 2
}
